{
 "cells": [
  {
   "cell_type": "code",
   "execution_count": 284,
   "metadata": {},
   "outputs": [],
   "source": [
    "# Librerias necesarias\n",
    "import pandas as pd\n",
    "import numpy as np\n",
    "import os\n",
    "import glob"
   ]
  },
  {
   "cell_type": "code",
   "execution_count": 288,
   "metadata": {},
   "outputs": [],
   "source": [
    "# data1 = pd.read_csv('Pagos_CL.csv')\n",
    "# data1.head()"
   ]
  },
  {
   "cell_type": "code",
   "execution_count": 313,
   "metadata": {},
   "outputs": [],
   "source": [
    "# data = ['Pagos_CL.csv', 'Pagos_PE.csv', 'Pagos_PA.csv', 'Pagos_GT.csv', 'Pagos_CO.csv']\n",
    "\n",
    "\n",
    "\n",
    "# # print(pago1.head(), '\\n\\n', pago2.head(), '\\n\\n', pago3.head(), '\\n\\n', pago4.head(), '\\n\\n', pago5.head())\n",
    "# df = pd.DataFrame(data, columns = ['Estatus',\t'Nro.Fiscal', 'IdCliente',\t'Val.aplicado',\t'FechaFac.', 'FechaPago'])\n",
    "# df = df.assign(Pais = ['Chile', 'Peru', 'Panama', 'Guatemala', 'Colombia'])\n",
    "# df"
   ]
  },
  {
   "cell_type": "code",
   "execution_count": 211,
   "metadata": {},
   "outputs": [],
   "source": [
    "# Cargar en un lista los nombres de todos los archivos\n",
    "# filelist = os.listdir('E:\\Ciencia\\Estadistica_Inferencial')\n",
    "# filelist\n"
   ]
  },
  {
   "cell_type": "code",
   "execution_count": 227,
   "metadata": {},
   "outputs": [
    {
     "name": "stdout",
     "output_type": "stream",
     "text": [
      "['Pagos_CL.csv', 'Pagos_CO.csv', 'Pagos_GT.csv', 'Pagos_PA.csv', 'Pagos_PE.csv']\n"
     ]
    }
   ],
   "source": [
    "pagos = glob.glob('Pagos*.csv')\n",
    "print(pagos)"
   ]
  },
  {
   "cell_type": "code",
   "execution_count": 180,
   "metadata": {},
   "outputs": [],
   "source": [
    "# merging the files\n",
    "# path = 'E:\\Ciencia\\Estadistica_Inferencial'\n",
    "\n",
    "# [os.path.join(path, file) for file in filelist if '.csv' in file]"
   ]
  },
  {
   "cell_type": "code",
   "execution_count": 302,
   "metadata": {},
   "outputs": [],
   "source": [
    "# df = pd.concat(map(pd.read_csv, ), ignore_index=True)\n",
    "# df.shape"
   ]
  },
  {
   "cell_type": "code",
   "execution_count": 321,
   "metadata": {},
   "outputs": [
    {
     "data": {
      "text/plain": [
       "(137084, 6)"
      ]
     },
     "execution_count": 321,
     "metadata": {},
     "output_type": "execute_result"
    }
   ],
   "source": [
    "# Crear DataFrame vacio\n",
    "# data = pd.read_csv({'Pagos_CL.csv','Pagos_PE.csv','Pagos_PA.csv','Pagos_GT.csv','Pagos_CO.csv'})\n",
    "# data2 = pd.read_csv('Pagos_PE.csv')\n",
    "# data3 = pd.read_csv('Pagos_PA.csv')\n",
    "# data4 = pd.read_csv('Pagos_GT.csv')\n",
    "# data5 = pd.read_csv('Pagos_CO.csv')\n",
    "\n",
    "df = pd.DataFrame()\n",
    "#  = df.assign(Pais = ['Chile', 'Peru', 'Panama', 'Guatemala', 'Colombia'])\n",
    "\n",
    "# Recorrer la lista de archivos y unirlos\n",
    "for file in pagos:\n",
    "    data_pa = pd.read_csv(file)\n",
    "    df = pd.concat([df, data_pa], axis=0)\n",
    "df.shape"
   ]
  },
  {
   "cell_type": "code",
   "execution_count": 320,
   "metadata": {},
   "outputs": [
    {
     "data": {
      "text/html": [
       "<div>\n",
       "<style scoped>\n",
       "    .dataframe tbody tr th:only-of-type {\n",
       "        vertical-align: middle;\n",
       "    }\n",
       "\n",
       "    .dataframe tbody tr th {\n",
       "        vertical-align: top;\n",
       "    }\n",
       "\n",
       "    .dataframe thead th {\n",
       "        text-align: right;\n",
       "    }\n",
       "</style>\n",
       "<table border=\"1\" class=\"dataframe\">\n",
       "  <thead>\n",
       "    <tr style=\"text-align: right;\">\n",
       "      <th></th>\n",
       "      <th>Estatus</th>\n",
       "      <th>Nro.Fiscal</th>\n",
       "      <th>IdCliente</th>\n",
       "      <th>Val.aplicado</th>\n",
       "      <th>FechaFac.</th>\n",
       "      <th>FechaPago</th>\n",
       "    </tr>\n",
       "  </thead>\n",
       "  <tbody>\n",
       "    <tr>\n",
       "      <th>0</th>\n",
       "      <td>Pagado</td>\n",
       "      <td>FAC 2227016</td>\n",
       "      <td>5351576-2</td>\n",
       "      <td>7</td>\n",
       "      <td>01/09/2022</td>\n",
       "      <td>19/08/2022</td>\n",
       "    </tr>\n",
       "    <tr>\n",
       "      <th>1</th>\n",
       "      <td>Pagado</td>\n",
       "      <td>FAC 2521103</td>\n",
       "      <td>76828190-4</td>\n",
       "      <td>220000</td>\n",
       "      <td>15/09/2022</td>\n",
       "      <td>14/09/2022</td>\n",
       "    </tr>\n",
       "    <tr>\n",
       "      <th>2</th>\n",
       "      <td>Pagado</td>\n",
       "      <td>FAC 2547214</td>\n",
       "      <td>13145793-6</td>\n",
       "      <td>8399</td>\n",
       "      <td>13/09/2022</td>\n",
       "      <td>12/09/2022</td>\n",
       "    </tr>\n",
       "    <tr>\n",
       "      <th>3</th>\n",
       "      <td>Pagado</td>\n",
       "      <td>FAC 2663003</td>\n",
       "      <td>81402500-4</td>\n",
       "      <td>160996</td>\n",
       "      <td>14/09/2022</td>\n",
       "      <td>13/09/2022</td>\n",
       "    </tr>\n",
       "    <tr>\n",
       "      <th>4</th>\n",
       "      <td>Pagado</td>\n",
       "      <td>FAC 2665277</td>\n",
       "      <td>81402500-4</td>\n",
       "      <td>36525</td>\n",
       "      <td>14/09/2022</td>\n",
       "      <td>13/09/2022</td>\n",
       "    </tr>\n",
       "    <tr>\n",
       "      <th>...</th>\n",
       "      <td>...</td>\n",
       "      <td>...</td>\n",
       "      <td>...</td>\n",
       "      <td>...</td>\n",
       "      <td>...</td>\n",
       "      <td>...</td>\n",
       "    </tr>\n",
       "    <tr>\n",
       "      <th>29341</th>\n",
       "      <td>Nota Credito</td>\n",
       "      <td>F029-0006037</td>\n",
       "      <td>7450355</td>\n",
       "      <td>183</td>\n",
       "      <td>31/12/2022</td>\n",
       "      <td>31/12/2022</td>\n",
       "    </tr>\n",
       "    <tr>\n",
       "      <th>29342</th>\n",
       "      <td>Nota Credito</td>\n",
       "      <td>F029-0006038</td>\n",
       "      <td>8082146</td>\n",
       "      <td>13372</td>\n",
       "      <td>31/12/2022</td>\n",
       "      <td>31/12/2022</td>\n",
       "    </tr>\n",
       "    <tr>\n",
       "      <th>29343</th>\n",
       "      <td>Nota Credito</td>\n",
       "      <td>F029-0006039</td>\n",
       "      <td>8082805</td>\n",
       "      <td>99</td>\n",
       "      <td>31/12/2022</td>\n",
       "      <td>31/12/2022</td>\n",
       "    </tr>\n",
       "    <tr>\n",
       "      <th>29344</th>\n",
       "      <td>Nota Credito</td>\n",
       "      <td>F029-0006040</td>\n",
       "      <td>8082805</td>\n",
       "      <td>125</td>\n",
       "      <td>31/12/2022</td>\n",
       "      <td>31/12/2022</td>\n",
       "    </tr>\n",
       "    <tr>\n",
       "      <th>29345</th>\n",
       "      <td>Nota Credito</td>\n",
       "      <td>F029-0006041</td>\n",
       "      <td>8082805</td>\n",
       "      <td>125</td>\n",
       "      <td>31/12/2022</td>\n",
       "      <td>31/12/2022</td>\n",
       "    </tr>\n",
       "  </tbody>\n",
       "</table>\n",
       "<p>137084 rows × 6 columns</p>\n",
       "</div>"
      ],
      "text/plain": [
       "            Estatus    Nro.Fiscal   IdCliente Val.aplicado   FechaFac.  \\\n",
       "0            Pagado   FAC 2227016   5351576-2            7  01/09/2022   \n",
       "1            Pagado   FAC 2521103  76828190-4       220000  15/09/2022   \n",
       "2            Pagado   FAC 2547214  13145793-6         8399  13/09/2022   \n",
       "3            Pagado   FAC 2663003  81402500-4       160996  14/09/2022   \n",
       "4            Pagado   FAC 2665277  81402500-4        36525  14/09/2022   \n",
       "...             ...           ...         ...          ...         ...   \n",
       "29341  Nota Credito  F029-0006037     7450355          183  31/12/2022   \n",
       "29342  Nota Credito  F029-0006038     8082146        13372  31/12/2022   \n",
       "29343  Nota Credito  F029-0006039     8082805           99  31/12/2022   \n",
       "29344  Nota Credito  F029-0006040     8082805          125  31/12/2022   \n",
       "29345  Nota Credito  F029-0006041     8082805          125  31/12/2022   \n",
       "\n",
       "        FechaPago  \n",
       "0      19/08/2022  \n",
       "1      14/09/2022  \n",
       "2      12/09/2022  \n",
       "3      13/09/2022  \n",
       "4      13/09/2022  \n",
       "...           ...  \n",
       "29341  31/12/2022  \n",
       "29342  31/12/2022  \n",
       "29343  31/12/2022  \n",
       "29344  31/12/2022  \n",
       "29345  31/12/2022  \n",
       "\n",
       "[137084 rows x 6 columns]"
      ]
     },
     "execution_count": 320,
     "metadata": {},
     "output_type": "execute_result"
    }
   ],
   "source": [
    "df"
   ]
  },
  {
   "cell_type": "code",
   "execution_count": 301,
   "metadata": {},
   "outputs": [],
   "source": [
    "df.to_csv(\"Pagos_consolidados.csv\")"
   ]
  },
  {
   "cell_type": "code",
   "execution_count": null,
   "metadata": {},
   "outputs": [],
   "source": []
  }
 ],
 "metadata": {
  "kernelspec": {
   "display_name": "Python 3",
   "language": "python",
   "name": "python3"
  },
  "language_info": {
   "codemirror_mode": {
    "name": "ipython",
    "version": 3
   },
   "file_extension": ".py",
   "mimetype": "text/x-python",
   "name": "python",
   "nbconvert_exporter": "python",
   "pygments_lexer": "ipython3",
   "version": "3.10.5"
  },
  "orig_nbformat": 4,
  "vscode": {
   "interpreter": {
    "hash": "0e9fc90d9d816438fb4cc8217c3fd535cc8050e0ac4e9ee3a5711a6365b5cd45"
   }
  }
 },
 "nbformat": 4,
 "nbformat_minor": 2
}
